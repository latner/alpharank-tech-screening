{
 "cells": [
  {
   "cell_type": "markdown",
   "metadata": {},
   "source": [
    "# Environment Test Notebook\n",
    "\n",
    "This notebook verifies that the Binder environment is correctly set up."
   ]
  },
  {
   "cell_type": "code",
   "execution_count": null,
   "metadata": {},
   "source": [
    "import sys\n",
    "sys.path.append('..')\n",
    "\n",
    "# Test imports\n",
    "import pandas as pd\n",
    "import requests\n",
    "import sqlalchemy\n",
    "from alpharank.sources.base import DataSource, DataSourceError\n",
    "from alpharank.storage.base import DataStorage, StorageError\n",
    "\n",
    "print(\"Python version:\", sys.version)\n",
    "print(\"\\nPackage versions:\")\n",
    "print(f\"pandas: {pd.__version__}\")\n",
    "print(f\"requests: {requests.__version__}\")\n",
    "print(f\"sqlalchemy: {sqlalchemy.__version__}\")"
   ]
  },
  {
   "cell_type": "code",
   "execution_count": null,
   "metadata": {},
   "source": [
    "# Test DataFrame creation\n",
    "df = pd.DataFrame({\n",
    "    'charter_number': ['12345', '67890'],\n",
    "    'web_domain': ['bank1.com', 'bank2.com'],\n",
    "    'city': ['New York', 'Los Angeles'],\n",
    "    'state': ['NY', 'CA']\n",
    "})\n",
    "\n",
    "print(\"Sample DataFrame:\")\n",
    "display(df)"
   ]
  }
 ],
 "metadata": {
  "kernelspec": {
   "display_name": "Python 3",
   "language": "python",
   "name": "python3"
  }
 },
 "nbformat": 4,
 "nbformat_minor": 4
}
